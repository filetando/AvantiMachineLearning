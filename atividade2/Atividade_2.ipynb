{
  "nbformat": 4,
  "nbformat_minor": 0,
  "metadata": {
    "colab": {
      "provenance": []
    },
    "kernelspec": {
      "name": "python3",
      "display_name": "Python 3"
    },
    "language_info": {
      "name": "python"
    }
  },
  "cells": [
    {
      "cell_type": "code",
      "execution_count": 4,
      "metadata": {
        "colab": {
          "base_uri": "https://localhost:8080/"
        },
        "id": "ltBY-3x0aZbz",
        "outputId": "1064fa64-9dd2-4f3c-e09a-6e7a3bba07a6"
      },
      "outputs": [
        {
          "output_type": "stream",
          "name": "stdout",
          "text": [
            "Digite os números separados por espaço: 1 2 3 4 5 6\n",
            "Números ímpares: [1, 3, 5]\n"
          ]
        }
      ],
      "source": [
        "#1. Escreva uma função que receba uma lista de números e retorne outra lista com os números ímpares.\n",
        "def descobrir_impares(lista):\n",
        "    return [n for n in lista if n % 2 != 0]\n",
        "\n",
        "impares = list(map(int, input(\"Digite os números separados por espaço: \").split()))\n",
        "\n",
        "print(\"Números ímpares:\", descobrir_impares(impares))"
      ]
    },
    {
      "cell_type": "code",
      "source": [
        "#2. Escreva uma função que receba uma lista de números e retorne outra lista com os números primos presentes.\n",
        "def descobrir_primos():\n",
        "    numeros = list(map(int, input(\"Digite os números separados por espaço: \").split()))\n",
        "    primos = []\n",
        "\n",
        "    for n in numeros:\n",
        "        if n > 1:\n",
        "            for i in range(2, int(n**0.5) + 1):\n",
        "                if n % i == 0:\n",
        "                    break\n",
        "            else:\n",
        "                primos.append(n)\n",
        "    return primos\n",
        "\n",
        "print(\"Números primos:\", descobrir_primos())\n",
        "\n"
      ],
      "metadata": {
        "colab": {
          "base_uri": "https://localhost:8080/"
        },
        "id": "Ct_7FxrCHQ2i",
        "outputId": "8b2ca0f2-6cda-4dad-ea93-728c5f8e9abc"
      },
      "execution_count": 3,
      "outputs": [
        {
          "output_type": "stream",
          "name": "stdout",
          "text": [
            "Digite os números separados por espaço: 1 2 3 4 5 6 7 8 9\n",
            "Números primos: [2, 3, 5, 7]\n"
          ]
        }
      ]
    },
    {
      "cell_type": "code",
      "source": [
        "#3. Escreva uma função que receba duas listas e retorne outra lista com os elementos que estão presentes em apenas uma das listas.\n",
        "def descobrir_excecao():\n",
        "  lista1 = list(map(int, input(\"Digite os números separados por espaço da primeira lista: \").split()))\n",
        "  lista2 = list(map(int, input(\"Digite os números separados por espaço da segunda lista: \").split()))\n",
        "  unicos=[]\n",
        "\n",
        "  for n in lista1:\n",
        "        if n not in lista2:\n",
        "            unicos.append(n)\n",
        "  for n in lista2:\n",
        "        if n not in lista1:\n",
        "            unicos.append(n)\n",
        "  return unicos\n",
        "\n",
        "print(\"Números únicos:\", descobrir_excecao())\n",
        "\n"
      ],
      "metadata": {
        "colab": {
          "base_uri": "https://localhost:8080/"
        },
        "id": "_MyUdaKaJ41z",
        "outputId": "3ee32552-4380-4306-9e24-5923b65432aa"
      },
      "execution_count": 11,
      "outputs": [
        {
          "output_type": "stream",
          "name": "stdout",
          "text": [
            "Digite os números separados por espaço da primeira lista: 1 3 5 7 9\n",
            "Digite os números separados por espaço da segunda lista: 1 2 3 4 5 6 7 8 9\n",
            "Números únicos: [2, 4, 6, 8]\n"
          ]
        }
      ]
    },
    {
      "cell_type": "code",
      "source": [
        "#4. Dada uma lista de números inteiros, escreva uma função para encontrar o segundo maior valor na lista.\n",
        "\n",
        "numeros = list(map(int, input(\"Digite os números separados por espaço: \").split()))\n",
        "def segundo_maior():\n",
        "  if len(numeros) < 2:\n",
        "      return None\n",
        "  maior = max(numeros)\n",
        "  lista_menor = [n for n in numeros if n != maior]\n",
        "  if not lista_menor:\n",
        "      return None\n",
        "  return max(lista_menor)\n",
        "\n",
        "print(\"Segundo maior número:\", segundo_maior())"
      ],
      "metadata": {
        "colab": {
          "base_uri": "https://localhost:8080/"
        },
        "id": "lJmMTZhMNCiC",
        "outputId": "1135363e-727f-4e80-b68e-6ae8726b02f5"
      },
      "execution_count": 6,
      "outputs": [
        {
          "output_type": "stream",
          "name": "stdout",
          "text": [
            "Digite os números separados por espaço: 6 5 4 1 2 3\n",
            "Segundo maior número: 5\n"
          ]
        }
      ]
    },
    {
      "cell_type": "code",
      "source": [
        "#5. Crie uma função que receba uma lista de tuplas, cada uma contendo o nome e a idade de uma pessoa, e retorne a lista ordenada pelo nome das pessoas em ordem alfabética.\n",
        "def ordernar_lista():\n",
        "    pessoas = []\n",
        "\n",
        "    while True:\n",
        "        nome = input(\"Digite o nome da pessoa (ou 'sair' para encerrar): \")\n",
        "        if nome.lower() == \"sair\":\n",
        "            break\n",
        "        idade = input(f\"Digite a idade de {nome}: \")\n",
        "\n",
        "        if not idade.isdigit():\n",
        "            print(\"Idade inválida, tente novamente.\")\n",
        "            continue\n",
        "\n",
        "        pessoas.append((nome, int(idade)))\n",
        "\n",
        "    return sorted(pessoas, key=lambda x: x[0])\n",
        "\n",
        "print(\"Lista de pessoas ordenada por nome: \", ordernar_lista())"
      ],
      "metadata": {
        "colab": {
          "base_uri": "https://localhost:8080/"
        },
        "id": "RauQu6J6UfWL",
        "outputId": "6a2bbfc1-e711-4e84-c8bd-488921dfd940"
      },
      "execution_count": 4,
      "outputs": [
        {
          "output_type": "stream",
          "name": "stdout",
          "text": [
            "Digite o nome da pessoa (ou 'sair' para encerrar): Lucas\n",
            "Digite a idade de Lucas: 25\n",
            "Digite o nome da pessoa (ou 'sair' para encerrar): Leticia\n",
            "Digite a idade de Leticia: 23\n",
            "Digite o nome da pessoa (ou 'sair' para encerrar): Gabriel\n",
            "Digite a idade de Gabriel: 23\n",
            "Digite o nome da pessoa (ou 'sair' para encerrar): Basani\n",
            "Digite a idade de Basani: 24\n",
            "Digite o nome da pessoa (ou 'sair' para encerrar): sair\n",
            "Lista de pessoas ordenada por nome:  [('Basani', 24), ('Gabriel', 23), ('Leticia', 23), ('Lucas', 25)]\n"
          ]
        }
      ]
    },
    {
      "cell_type": "markdown",
      "source": [
        "##6. Como identificar e tratar outliers em uma coluna numérica usando desvio padrão ou quartis?\n",
        "\n",
        "Existem duas formas muito comuns de identificar outliers: com o desvio padrão e com o método IQR.\n",
        "A técnica do desvio padrão funciona melhor quando os dados seguem uma distribuição normal. Nessa técnica, é estipulado um limite máximo e mínimo em torno da média, e o dado que estiver fora desse limite é identificado como outlier.\n",
        "Para obter essas informações, primeiro é necessário calcular a média e o desvio padrão da coluna. Depois, é preciso calcular o limite máximo (média + 3 × desvio padrão) e o limite mínimo (média − 3 × desvio padrão). Os valores que estiverem fora desse limite são considerados outliers.\n",
        "\n",
        "O método IQR funciona mesmo se os dados não forem normalmente distribuídos, sendo, inclusive, o mais recomendado para a maioria dos casos. Essa técnica é baseada na distância que o dado se encontra do corpo principal dos dados.\n",
        "Primeiro, é necessário calcular o primeiro quartil (Q1, que é a mediana da primeira metade dos dados) e o terceiro quartil (Q3, que é a mediana da segunda metade dos dados). Em seguida, calcula-se o intervalo interquartil (IQR), que é Q3 − Q1, ou seja, os 50% centrais dos dados, ignorando os 25% menores e maiores. Depois, calcula-se o limite mínimo (Q1 − 1,5 × IQR) e o limite máximo (Q3 + 1,5 × IQR). Os dados que estiverem fora desses limites são considerados outliers.\n",
        "\n",
        "Para tratar esses outliers, é possível: apagar as linhas; substituir o valor pela média, mediana ou outro valor que faça sentido para o contexto; ou manter o valor, caso essa informação seja relevante e precise ser preservada."
      ],
      "metadata": {
        "id": "u9jrVlw4ecVo"
      }
    },
    {
      "cell_type": "markdown",
      "source": [
        "##7. Como concatenar vários DataFrames (empilhando linhas ou colunas), mesmo que tenham colunas diferentes? Dica: Utiliza-se pd.concat() especificando axis=0 (linhas) ou axis=1(colunas). Quando há colunas diferentes, os valores ausentes são preenchidos com NaN.\n",
        "A concatenação de DataFrames no pandas é realizada com a função pd.concat(), que permite empilhar os dados tanto por linhas quanto por colunas. A função é flexível e lida com a situação onde os DataFrames de entrada não possuem as mesmas colunas ou os mesmos índices. Para quem tem experiência com SQL se assemelha com o JOIN.\n",
        "\n",
        "A principal forma de concatenação é o empilhamento de linhas, que é o comportamento padrão da função, especificado por axis=0. Ao juntar os DataFrames dessa maneira, a função cria um novo DataFrame contendo todas as linhas dos DataFrames originais, uma abaixo da outra. Se os DataFrames tiverem colunas diferentes, pd.concat() manterá todas as colunas de todos os DataFrames. Para as linhas provenientes de um DataFrame que não possuía uma determinada coluna, o valor será preenchido com NaN, indicando ausência de dados.\n",
        "\n",
        "A concatenação também pode ser feita unindo os DataFrames lado a lado, como se fossem novas colunas. Para isso, utiliza-se o parâmetro axis=1. Nesse caso, a junção é feita com base nos índices das linhas. Se os DataFrames não compartilharem os mesmos índices, as linhas que não encontrarem correspondência no outro DataFrame também terão seus novos campos preenchidos com NaN.\n",
        "\n",
        "Para controlar o comportamento em relação às colunas ou índices não correspondentes, o parâmetro join pode ser utilizado. O padrão é join='outer', que mantém todas as colunas/índices e preenche os vazios com NaN. Alternativamente, pode-se usar join='inner', que resultará em um DataFrame contendo apenas as colunas (para axis=0) ou índices (para axis=1) que são comuns a todos os DataFrames, evitando a geração de valores NaN.\n"
      ],
      "metadata": {
        "id": "7vw6Kg4Co0AW"
      }
    },
    {
      "cell_type": "markdown",
      "source": [
        "##8. Utilizando pandas, como realizar a leitura de um arquivo CSV em um DataFrame e exibir as primeiras linhas?\n",
        "O pandas oferece o recurso de leitura de arquivos .csv através da função pd.read_csv('Caminho_do_arquivo.csv').\n",
        "\n",
        "Para exibir as primeiras linhas do Dataframe, o pandas oferece o recurso .head() que mostra as primeiras 5 linhas por padrão, caso seja necessário visualizar um número diferente de linhas, basta colocar o valor desejado dentro do parênteses. Exemplo: df.head(10) para visualizar as primeiras 10 linhas."
      ],
      "metadata": {
        "id": "xrEP6nhUsmV7"
      }
    },
    {
      "cell_type": "markdown",
      "source": [
        "##9. Utilizando pandas, como selecionar uma coluna específica e filtrar linhasem um “DataFrame” com base em uma condição?\n",
        "No Pandas a seleção e filtragem de colunas em um DataFrame são feitas utilizando o colchetes [], utilizando sintaxes específicas para cada operação.\n",
        "\n",
        "Para selecionar uma coluna específica, se utiliza o nome da coluna entre colchetes.                                                                       \n",
        "Exemplo: df['nome_da_coluna']\n",
        "\n",
        "Para filtrar as linhas com base em uma condição é necessário criar uma condição lógica dentro dos colchetes que retorna como Verdadeiro todas as linhas que satisfazem essa condição.                                                        \n",
        "Exemplo: df[df['coluna_que_sera_filtrada'] == 'valor']\n",
        "\n",
        "Para selecionar uma coluna específica com filtragem de linhas, basta encadear as operações.                                                                          \n",
        "Exemplo: df[df['coluna_que_sera_filtrada'] == valor]['coluna_que_sera_exibida']"
      ],
      "metadata": {
        "id": "siJ0LHnpxrVj"
      }
    },
    {
      "cell_type": "markdown",
      "source": [
        "##10.  Utilizando pandas, como lidar com valores ausentes (NaN) em um DataFrame?\n",
        "\n",
        "Após identificar valores ausentes, o pandas oferece métodos para tratar esses dados.\n",
        "\n",
        "Uma das possibilidades é simplesmente remover essas linhas do DataFrame com a função .dropna()    \n",
        "Exemplo para remover dados nulos de uma coluna específica: df.dropna(subset=['nome_da_coluna'])\n",
        "\n",
        "Outra possibilidade é preencher os valores nulos por um valor específico que faça sentido com o contexto do dataframe, é possível fazer isso com a função .fillna()                                                                        \n",
        "O mais comum é preencher esses valores com a média, mediana, ou moda mas pode ser preenchido com outros valores que se adequem melhor ao contexto do dataframe.                                                                 \n",
        "Exemplo para preencher com a mediana os valores nulos de uma coluna específica: df['nome_da_coluna'].fillna(df['nome_da_coluna'].median())"
      ],
      "metadata": {
        "id": "jyk26HGFy33U"
      }
    }
  ]
}